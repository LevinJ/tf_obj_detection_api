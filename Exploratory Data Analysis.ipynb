{
 "cells": [
  {
   "cell_type": "markdown",
   "metadata": {},
   "source": [
    "# Explore the dataset\n",
    "\n",
    "\n",
    "In this notebook, we will perform an EDA (Exploratory Data Analysis) on the processed Waymo dataset (data in the `processed` folder). In the first part, you will create a function to display "
   ]
  },
  {
   "cell_type": "code",
   "execution_count": 1,
   "metadata": {},
   "outputs": [],
   "source": [
    "from utils import get_dataset"
   ]
  },
  {
   "cell_type": "code",
   "execution_count": 2,
   "metadata": {},
   "outputs": [
    {
     "name": "stdout",
     "output_type": "stream",
     "text": [
      "INFO:tensorflow:Reading unweighted datasets: ['./data/processed/segment-10017090168044687777_6380_000_6400_000_with_camera_labels.tfrecord']\n",
      "INFO:tensorflow:Reading record datasets for input file: ['./data/processed/segment-10017090168044687777_6380_000_6400_000_with_camera_labels.tfrecord']\n",
      "INFO:tensorflow:Number of filenames to read: 1\n",
      "WARNING:tensorflow:num_readers has been reduced to 1 to match input file shards.\n",
      "WARNING:tensorflow:From /home/levin/anaconda3/lib/python3.8/site-packages/object_detection/builders/dataset_builder.py:99: parallel_interleave (from tensorflow.python.data.experimental.ops.interleave_ops) is deprecated and will be removed in a future version.\n",
      "Instructions for updating:\n",
      "Use `tf.data.Dataset.interleave(map_func, cycle_length, block_length, num_parallel_calls=tf.data.experimental.AUTOTUNE)` instead. If sloppy execution is desired, use `tf.data.Options.experimental_deterministic`.\n",
      "WARNING:tensorflow:From /home/levin/anaconda3/lib/python3.8/site-packages/object_detection/builders/dataset_builder.py:221: DatasetV1.map_with_legacy_function (from tensorflow.python.data.ops.dataset_ops) is deprecated and will be removed in a future version.\n",
      "Instructions for updating:\n",
      "Use `tf.data.Dataset.map()\n"
     ]
    }
   ],
   "source": [
    "dataset = get_dataset(\"./data/processed/segment-10017090168044687777_6380_000_6400_000_with_camera_labels.tfrecord\")"
   ]
  },
  {
   "cell_type": "markdown",
   "metadata": {},
   "source": [
    "## Write a function to display an image and the bounding boxes\n",
    "\n",
    "Implement the `display_instances` function below. This function takes a batch as an input and display an image with its corresponding bounding boxes. The only requirement is that the classes should be color coded (eg, vehicles in red, pedestrians in blue, cyclist in green)."
   ]
  },
  {
   "cell_type": "code",
   "execution_count": 7,
   "metadata": {},
   "outputs": [
    {
     "data": {
      "text/plain": [
       "<Figure size 432x288 with 0 Axes>"
      ]
     },
     "metadata": {},
     "output_type": "display_data"
    }
   ],
   "source": [
    "import cv2\n",
    "import matplotlib.pyplot as plt\n",
    "%matplotlib inline\n",
    "def draw_detections(img, boxes, classes):\n",
    "    color_dict = {1: (0, 0, 255), 2: (255, 0, 0), 4:(0, 255, 0)}\n",
    "    for box,box_class in zip(boxes, classes):\n",
    "        ymin, xmin, ymax, xmax = box\n",
    "        cv2.rectangle(img, (xmin, ymin), (xmax, ymax), color_dict[box_class], 2)\n",
    "    return img\n",
    "\n",
    "fig=plt.figure()\n",
    "rows, columns = 5, 2\n",
    "i = 1\n",
    "def display_instances(batch):\n",
    "    \"\"\"\n",
    "    This function takes a batch from the dataset and display the image with \n",
    "    the associated bounding boxes.\n",
    "    \"\"\"\n",
    "    # ADD CODE HERE\n",
    "    global i;\n",
    "    img  = batch['image'].numpy()\n",
    "    h, w, _c = img.shape \n",
    "    boxes = batch['groundtruth_boxes'].numpy()\n",
    "    boxes[:,(0,2)] *= h\n",
    "    boxes[:,(1,3)] *= w\n",
    "    classes = batch['groundtruth_classes'].numpy()\n",
    "\n",
    "    img = draw_detections(img.copy(), boxes, classes)\n",
    "    print(\"show image{}\".format(i))\n",
    "    i = i+ 1\n",
    "    cv2.imshow('object detection', cv2.resize(img, (0,0), fx=0.5, fy=0.5)  )\n",
    "    if cv2.waitKey(2500) & 0xFF == ord('q'):\n",
    "        return\n",
    "    \n",
    "#     fig.add_subplot(rows, columns, i)\n",
    "#     plt.imshow(img)\n",
    "#     i = i+ 1\n",
    "       \n",
    "    "
   ]
  },
  {
   "cell_type": "markdown",
   "metadata": {},
   "source": [
    "## Display 10 images \n",
    "\n",
    "Using the dataset created in the second cell and the function you just coded, display 10 random images with the associated bounding boxes. You can use the methods `take` and `shuffle` on the dataset."
   ]
  },
  {
   "cell_type": "code",
   "execution_count": 8,
   "metadata": {},
   "outputs": [
    {
     "name": "stderr",
     "output_type": "stream",
     "text": [
      "<ipython-input-7-cc27c159b84c>:8: DeprecationWarning: an integer is required (got type numpy.float32).  Implicit conversion to integers using __int__ is deprecated, and may be removed in a future version of Python.\n",
      "  cv2.rectangle(img, (xmin, ymin), (xmax, ymax), color_dict[box_class], 2)\n"
     ]
    },
    {
     "name": "stdout",
     "output_type": "stream",
     "text": [
      "show image1\n",
      "show image2\n",
      "show image3\n",
      "show image4\n",
      "show image5\n",
      "show image6\n",
      "show image7\n",
      "show image8\n",
      "show image9\n",
      "show image10\n"
     ]
    }
   ],
   "source": [
    "## STUDENT SOLUTION HERE \n",
    "dataset = dataset.shuffle(100)\n",
    "dataset = dataset.take(10)\n",
    "\n",
    "for batch in dataset:\n",
    "    display_instances(batch)\n",
    "plt.show()"
   ]
  },
  {
   "cell_type": "markdown",
   "metadata": {},
   "source": [
    "## Additional EDA\n",
    "\n",
    "In this last part, you are free to perform any additional analysis of the dataset. What else would like to know about the data?\n",
    "For example, think about data distribution. So far, you have only looked at a single file..."
   ]
  },
  {
   "cell_type": "code",
   "execution_count": null,
   "metadata": {},
   "outputs": [],
   "source": []
  }
 ],
 "metadata": {
  "kernelspec": {
   "display_name": "Python 3",
   "language": "python",
   "name": "python3"
  },
  "language_info": {
   "codemirror_mode": {
    "name": "ipython",
    "version": 3
   },
   "file_extension": ".py",
   "mimetype": "text/x-python",
   "name": "python",
   "nbconvert_exporter": "python",
   "pygments_lexer": "ipython3",
   "version": "3.8.3"
  }
 },
 "nbformat": 4,
 "nbformat_minor": 4
}
